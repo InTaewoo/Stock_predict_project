{
 "cells": [
  {
   "cell_type": "code",
   "execution_count": 13,
   "id": "55a9f75e-fdc0-44b4-9a32-75ce5195b263",
   "metadata": {},
   "outputs": [],
   "source": [
    "import requests\n",
    "import pandas as pd\n",
    "import urllib.request\n",
    "from bs4 import BeautifulSoup\n",
    "\n",
    "from selenium.webdriver import Chrome\n",
    "from selenium.webdriver.common.keys import Keys\n",
    "\n",
    "import time\n"
   ]
  },
  {
   "cell_type": "code",
   "execution_count": 17,
   "id": "dd07b391-8141-42d3-8a2f-4d9ab1c78c52",
   "metadata": {},
   "outputs": [],
   "source": [
    "delay = 1\n",
    "browser = Chrome('./chromedriver/chromedriver')\n",
    "browser.implicitly_wait(delay)\n",
    "\n",
    "\n",
    "keyword = 'sk하이닉스'\n",
    "url = 'https://www.youtube.com/c/hkwowtv/search?query={}'.format(keyword)\n",
    "\n",
    "browser.get(url)\n",
    "browser.maximize_window() #창 화면 키우기\n",
    "\n",
    "body = browser.find_element_by_tag_name('body')\n",
    "\n",
    "pages = 100\n",
    "while pages:\n",
    "    body.send_keys(Keys.PAGE_DOWN)\n",
    "    time.sleep(1)\n",
    "    pages -= 1\n",
    "\n",
    "soup = BeautifulSoup(browser.page_source,'html.parser')\n",
    "\n",
    "# 제목, 조회수, 업로드 시간 저장\n",
    "name = soup.select('a#video-title')\n",
    "video_url = soup.select('a#video-title')\n",
    "view = soup.select('a#video-title')\n",
    "\n",
    "name_list = []\n",
    "url_list = []\n",
    "view_list = []\n",
    "\n",
    "for i in range(len(name)):\n",
    "    name_list.append(name[i].text.strip())\n",
    "    view_list.append(view[i].get('aria-label').split()[-1])\n",
    "for i in video_url:\n",
    "    url_list.append('{}{}'.format('https://www.youtube.com',i.get('href')))\n",
    "\n",
    "youtubeDic = {\n",
    "    '제목': name_list,\n",
    "    '주소': url_list,\n",
    "    '조회수': view_list\n",
    "}\n",
    "\n",
    "browser.close()\n",
    "youtubeDf = pd.DataFrame(youtubeDic)    "
   ]
  },
  {
   "cell_type": "code",
   "execution_count": 19,
   "id": "988954f5-bb3a-4bef-8454-3aa53fa52d28",
   "metadata": {},
   "outputs": [
    {
     "data": {
      "text/html": [
       "<div>\n",
       "<style scoped>\n",
       "    .dataframe tbody tr th:only-of-type {\n",
       "        vertical-align: middle;\n",
       "    }\n",
       "\n",
       "    .dataframe tbody tr th {\n",
       "        vertical-align: top;\n",
       "    }\n",
       "\n",
       "    .dataframe thead th {\n",
       "        text-align: right;\n",
       "    }\n",
       "</style>\n",
       "<table border=\"1\" class=\"dataframe\">\n",
       "  <thead>\n",
       "    <tr style=\"text-align: right;\">\n",
       "      <th></th>\n",
       "      <th>제목</th>\n",
       "      <th>주소</th>\n",
       "      <th>조회수</th>\n",
       "    </tr>\n",
       "  </thead>\n",
       "  <tbody>\n",
       "    <tr>\n",
       "      <th>0</th>\n",
       "      <td>삼성전자·SK하이닉스 급락 떨어지는 칼날 잡아라? / 삼성전자, SK하이닉스, 원달...</td>\n",
       "      <td>https://www.youtube.com/watch?v=x7to5CTAU4I</td>\n",
       "      <td>337,743회</td>\n",
       "    </tr>\n",
       "    <tr>\n",
       "      <th>1</th>\n",
       "      <td>모건스탠리 \"삼성전자, SK하이닉스 팔아라\" 수급전쟁 속 실적 좋은 이 기업 / 삼...</td>\n",
       "      <td>https://www.youtube.com/watch?v=MXO7e-54XgA</td>\n",
       "      <td>13,558회</td>\n",
       "    </tr>\n",
       "    <tr>\n",
       "      <th>2</th>\n",
       "      <td>삼성전자·SK하이닉스 반등 시작됐나? / 삼성전자, SK하이닉스, DB하이텍 / 이...</td>\n",
       "      <td>https://www.youtube.com/watch?v=e6UpTYGo0gE</td>\n",
       "      <td>10,440회</td>\n",
       "    </tr>\n",
       "    <tr>\n",
       "      <th>3</th>\n",
       "      <td>삼성전자, SK하이닉스를 보는 엇갈린 전망..반도체 수퍼사이클 끝났나 / 삼성전자 ...</td>\n",
       "      <td>https://www.youtube.com/watch?v=i_3tBoRmO0Q</td>\n",
       "      <td>21,106회</td>\n",
       "    </tr>\n",
       "    <tr>\n",
       "      <th>4</th>\n",
       "      <td>SK하이닉스·S-Oil·현대제철 2분기 실적 전망 / 박소영 캐스터 / 증시라인 /...</td>\n",
       "      <td>https://www.youtube.com/watch?v=WApIya9KN6M</td>\n",
       "      <td>3,155회</td>\n",
       "    </tr>\n",
       "    <tr>\n",
       "      <th>...</th>\n",
       "      <td>...</td>\n",
       "      <td>...</td>\n",
       "      <td>...</td>\n",
       "    </tr>\n",
       "    <tr>\n",
       "      <th>385</th>\n",
       "      <td>[Today 핵심전략] 핀테크 본격화 가능성</td>\n",
       "      <td>https://www.youtube.com/watch?v=lu6-RRxItNE</td>\n",
       "      <td>215회</td>\n",
       "    </tr>\n",
       "    <tr>\n",
       "      <th>386</th>\n",
       "      <td>[기획특집] \" 내년 반도체주 투자전략은?\"</td>\n",
       "      <td>https://www.youtube.com/watch?v=TZKNMiXoncw</td>\n",
       "      <td>9회</td>\n",
       "    </tr>\n",
       "    <tr>\n",
       "      <th>387</th>\n",
       "      <td>[미국주식 보고 한국주식 사자] 금 가격, 끝없는 상승랠리...안전자산 흐름은? /...</td>\n",
       "      <td>https://www.youtube.com/watch?v=MlJyFNGCTss</td>\n",
       "      <td>2,094회</td>\n",
       "    </tr>\n",
       "    <tr>\n",
       "      <th>388</th>\n",
       "      <td>국내증시 상승 탄력은 언제 ? 남중국해 문제, 한국에는 기회 ? / 이승조 다인경제...</td>\n",
       "      <td>https://www.youtube.com/watch?v=tqEARIvbzIM</td>\n",
       "      <td>62,083회</td>\n",
       "    </tr>\n",
       "    <tr>\n",
       "      <th>389</th>\n",
       "      <td>[2015 리더십이 바뀐다] `승부사` 최태원, 혁신으로 재도약 이끈다</td>\n",
       "      <td>https://www.youtube.com/watch?v=tCu5U__hlIo</td>\n",
       "      <td>111회</td>\n",
       "    </tr>\n",
       "  </tbody>\n",
       "</table>\n",
       "<p>390 rows × 3 columns</p>\n",
       "</div>"
      ],
      "text/plain": [
       "                                                    제목  \\\n",
       "0    삼성전자·SK하이닉스 급락 떨어지는 칼날 잡아라? / 삼성전자, SK하이닉스, 원달...   \n",
       "1    모건스탠리 \"삼성전자, SK하이닉스 팔아라\" 수급전쟁 속 실적 좋은 이 기업 / 삼...   \n",
       "2    삼성전자·SK하이닉스 반등 시작됐나? / 삼성전자, SK하이닉스, DB하이텍 / 이...   \n",
       "3    삼성전자, SK하이닉스를 보는 엇갈린 전망..반도체 수퍼사이클 끝났나 / 삼성전자 ...   \n",
       "4    SK하이닉스·S-Oil·현대제철 2분기 실적 전망 / 박소영 캐스터 / 증시라인 /...   \n",
       "..                                                 ...   \n",
       "385                           [Today 핵심전략] 핀테크 본격화 가능성   \n",
       "386                           [기획특집] \" 내년 반도체주 투자전략은?\"   \n",
       "387  [미국주식 보고 한국주식 사자] 금 가격, 끝없는 상승랠리...안전자산 흐름은? /...   \n",
       "388  국내증시 상승 탄력은 언제 ? 남중국해 문제, 한국에는 기회 ? / 이승조 다인경제...   \n",
       "389            [2015 리더십이 바뀐다] `승부사` 최태원, 혁신으로 재도약 이끈다   \n",
       "\n",
       "                                              주소       조회수  \n",
       "0    https://www.youtube.com/watch?v=x7to5CTAU4I  337,743회  \n",
       "1    https://www.youtube.com/watch?v=MXO7e-54XgA   13,558회  \n",
       "2    https://www.youtube.com/watch?v=e6UpTYGo0gE   10,440회  \n",
       "3    https://www.youtube.com/watch?v=i_3tBoRmO0Q   21,106회  \n",
       "4    https://www.youtube.com/watch?v=WApIya9KN6M    3,155회  \n",
       "..                                           ...       ...  \n",
       "385  https://www.youtube.com/watch?v=lu6-RRxItNE      215회  \n",
       "386  https://www.youtube.com/watch?v=TZKNMiXoncw        9회  \n",
       "387  https://www.youtube.com/watch?v=MlJyFNGCTss    2,094회  \n",
       "388  https://www.youtube.com/watch?v=tqEARIvbzIM   62,083회  \n",
       "389  https://www.youtube.com/watch?v=tCu5U__hlIo      111회  \n",
       "\n",
       "[390 rows x 3 columns]"
      ]
     },
     "execution_count": 19,
     "metadata": {},
     "output_type": "execute_result"
    }
   ],
   "source": [
    "youtubeDf"
   ]
  },
  {
   "cell_type": "code",
   "execution_count": 21,
   "id": "eebabb1d-344f-440f-8a58-8bf710ee9828",
   "metadata": {},
   "outputs": [
    {
     "data": {
      "text/plain": [
       "0      https://www.youtube.com/watch?v=x7to5CTAU4I\n",
       "1      https://www.youtube.com/watch?v=MXO7e-54XgA\n",
       "2      https://www.youtube.com/watch?v=e6UpTYGo0gE\n",
       "3      https://www.youtube.com/watch?v=i_3tBoRmO0Q\n",
       "4      https://www.youtube.com/watch?v=WApIya9KN6M\n",
       "                          ...                     \n",
       "385    https://www.youtube.com/watch?v=lu6-RRxItNE\n",
       "386    https://www.youtube.com/watch?v=TZKNMiXoncw\n",
       "387    https://www.youtube.com/watch?v=MlJyFNGCTss\n",
       "388    https://www.youtube.com/watch?v=tqEARIvbzIM\n",
       "389    https://www.youtube.com/watch?v=tCu5U__hlIo\n",
       "Name: 주소, Length: 390, dtype: object"
      ]
     },
     "execution_count": 21,
     "metadata": {},
     "output_type": "execute_result"
    }
   ],
   "source": [
    "video_url = youtubeDf['주소']\n",
    "video_url"
   ]
  },
  {
   "cell_type": "code",
   "execution_count": 24,
   "id": "05ac3439-a72c-4974-bf9b-9c118ba3639b",
   "metadata": {},
   "outputs": [
    {
     "ename": "NameError",
     "evalue": "name 'Youtube' is not defined",
     "output_type": "error",
     "traceback": [
      "\u001b[0;31m---------------------------------------------------------------------------\u001b[0m",
      "\u001b[0;31mNameError\u001b[0m                                 Traceback (most recent call last)",
      "\u001b[0;32m<ipython-input-24-f344012ed4d3>\u001b[0m in \u001b[0;36m<module>\u001b[0;34m\u001b[0m\n\u001b[0;32m----> 1\u001b[0;31m \u001b[0myt\u001b[0m \u001b[0;34m=\u001b[0m \u001b[0mYoutube\u001b[0m\u001b[0;34m(\u001b[0m\u001b[0mvideo_url\u001b[0m\u001b[0;34m)\u001b[0m\u001b[0;34m\u001b[0m\u001b[0;34m\u001b[0m\u001b[0m\n\u001b[0m",
      "\u001b[0;31mNameError\u001b[0m: name 'Youtube' is not defined"
     ]
    }
   ],
   "source": [
    "yt = Youtube(video_url)"
   ]
  },
  {
   "cell_type": "code",
   "execution_count": 23,
   "id": "7d877516-0263-474d-a5d9-ab5488ad4cbd",
   "metadata": {},
   "outputs": [
    {
     "data": {
      "text/plain": [
       "0      https://www.youtube.com/watch?v=x7to5CTAU4I\n",
       "1      https://www.youtube.com/watch?v=MXO7e-54XgA\n",
       "2      https://www.youtube.com/watch?v=e6UpTYGo0gE\n",
       "3      https://www.youtube.com/watch?v=i_3tBoRmO0Q\n",
       "4      https://www.youtube.com/watch?v=WApIya9KN6M\n",
       "                          ...                     \n",
       "385    https://www.youtube.com/watch?v=lu6-RRxItNE\n",
       "386    https://www.youtube.com/watch?v=TZKNMiXoncw\n",
       "387    https://www.youtube.com/watch?v=MlJyFNGCTss\n",
       "388    https://www.youtube.com/watch?v=tqEARIvbzIM\n",
       "389    https://www.youtube.com/watch?v=tCu5U__hlIo\n",
       "Name: 주소, Length: 390, dtype: object"
      ]
     },
     "execution_count": 23,
     "metadata": {},
     "output_type": "execute_result"
    }
   ],
   "source": [
    "yt"
   ]
  },
  {
   "cell_type": "code",
   "execution_count": null,
   "id": "670c8d94-1468-4b73-92a5-518871acb76d",
   "metadata": {},
   "outputs": [],
   "source": []
  }
 ],
 "metadata": {
  "kernelspec": {
   "display_name": "Python Multi",
   "language": "python",
   "name": "multi"
  },
  "language_info": {
   "codemirror_mode": {
    "name": "ipython",
    "version": 3
   },
   "file_extension": ".py",
   "mimetype": "text/x-python",
   "name": "python",
   "nbconvert_exporter": "python",
   "pygments_lexer": "ipython3",
   "version": "3.7.6"
  }
 },
 "nbformat": 4,
 "nbformat_minor": 5
}
