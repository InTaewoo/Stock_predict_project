{
 "cells": [
  {
   "cell_type": "code",
   "execution_count": 40,
   "id": "ae73c6b5-34f4-4966-a310-9d6a52a64b8f",
   "metadata": {},
   "outputs": [
    {
     "name": "stdout",
     "output_type": "stream",
     "text": [
      "Collecting pytube\n",
      "  Using cached pytube-11.0.1-py3-none-any.whl (56 kB)\n",
      "Installing collected packages: pytube\n",
      "Successfully installed pytube-11.0.1\n",
      "Note: you may need to restart the kernel to use updated packages.\n"
     ]
    }
   ],
   "source": [
    "pip install pytube"
   ]
  },
  {
   "cell_type": "code",
   "execution_count": 34,
   "id": "44318349-401a-44e5-a2a9-414057532f32",
   "metadata": {},
   "outputs": [],
   "source": []
  },
  {
   "cell_type": "code",
   "execution_count": 88,
   "id": "39a5a0ef-b7b6-4092-af62-45cec5ef37d9",
   "metadata": {},
   "outputs": [],
   "source": [
    "from selenium import webdriver\n",
    "from bs4 import BeautifulSoup as bs\n",
    "import pandas as pd\n",
    "from selenium.webdriver.common.keys import Keys\n",
    "from pytube import YouTube\n",
    "import time\n",
    "import pytube\n",
    "\n",
    "\n",
    "keyword = '삼성전자'\n",
    "url = 'https://www.youtube.com/c/hkwowtv/search?query={}'.format(keyword)\n",
    "\n",
    "driver = webdriver.Chrome('./chromedriver/chromedriver')\n",
    "\n",
    "\n",
    "driver.get(url)\n",
    "soup = bs(driver.page_source, 'html.parser')\n",
    "\n",
    "body = driver.find_element_by_tag_name('body')\n",
    "pages = 50\n",
    "\n",
    "while pages:\n",
    "    body.send_keys(Keys.PAGE_DOWN)\n",
    "    time.sleep(0.5)\n",
    "    pages -= 1\n",
    "    \n",
    "\n",
    "\n",
    "name = soup.select('a#video-title')\n",
    "video_url = soup.select('a#video-title')\n",
    "view = soup.select('a#video-title')\n",
    "name_list = []\n",
    "url_list = []\n",
    "view_list = []\n",
    "date=[]\n",
    "\n",
    "for i in range(len(name)):\n",
    "    name_list.append(name[i].text.strip())\n",
    "    view_list.append(view[i].get('aria-label').split()[-1])\n",
    "    \n",
    "for i in video_url:\n",
    "    url_list.append('{}{}'.format('https://www.youtube.com',i.get('href')))\n",
    "\n",
    "youtubeDic = {\n",
    "    '제목': name_list,\n",
    "    '주소': url_list,\n",
    "    '조회수': view_list\n",
    "}\n",
    "\n",
    "\n",
    "youtubeDf = pd.DataFrame(youtubeDic)\n",
    "\n",
    "driver.close()"
   ]
  },
  {
   "cell_type": "code",
   "execution_count": 90,
   "id": "687ccd7e-1134-405a-9ced-cbf5bcd19539",
   "metadata": {},
   "outputs": [
    {
     "data": {
      "text/html": [
       "<div>\n",
       "<style scoped>\n",
       "    .dataframe tbody tr th:only-of-type {\n",
       "        vertical-align: middle;\n",
       "    }\n",
       "\n",
       "    .dataframe tbody tr th {\n",
       "        vertical-align: top;\n",
       "    }\n",
       "\n",
       "    .dataframe thead th {\n",
       "        text-align: right;\n",
       "    }\n",
       "</style>\n",
       "<table border=\"1\" class=\"dataframe\">\n",
       "  <thead>\n",
       "    <tr style=\"text-align: right;\">\n",
       "      <th></th>\n",
       "      <th>제목</th>\n",
       "      <th>주소</th>\n",
       "      <th>조회수</th>\n",
       "    </tr>\n",
       "  </thead>\n",
       "  <tbody>\n",
       "  </tbody>\n",
       "</table>\n",
       "</div>"
      ],
      "text/plain": [
       "Empty DataFrame\n",
       "Columns: [제목, 주소, 조회수]\n",
       "Index: []"
      ]
     },
     "execution_count": 90,
     "metadata": {},
     "output_type": "execute_result"
    }
   ],
   "source": [
    "youtubeDf"
   ]
  },
  {
   "cell_type": "code",
   "execution_count": null,
   "id": "ff3f37c0-cd73-4b3e-abac-66c5d198aa41",
   "metadata": {},
   "outputs": [],
   "source": []
  }
 ],
 "metadata": {
  "kernelspec": {
   "display_name": "Python Multi",
   "language": "python",
   "name": "multi"
  },
  "language_info": {
   "codemirror_mode": {
    "name": "ipython",
    "version": 3
   },
   "file_extension": ".py",
   "mimetype": "text/x-python",
   "name": "python",
   "nbconvert_exporter": "python",
   "pygments_lexer": "ipython3",
   "version": "3.7.6"
  }
 },
 "nbformat": 4,
 "nbformat_minor": 5
}
